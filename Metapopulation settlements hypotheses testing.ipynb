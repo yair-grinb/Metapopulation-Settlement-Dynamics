{
 "cells": [
  {
   "cell_type": "markdown",
   "id": "6674811d-06c5-4acd-b95e-904663611b24",
   "metadata": {},
   "source": [
    "# Code supporting the paper 'Ancient Levantine demography follows ecological stochasticity' (Wachtel et al., 2025)"
   ]
  },
  {
   "cell_type": "markdown",
   "id": "8b10f41f-33c4-425f-b139-e06dfcbdd7f5",
   "metadata": {},
   "source": [
    "### Install packages, if neccessary"
   ]
  },
  {
   "cell_type": "code",
   "execution_count": 1,
   "id": "98037ef7-6264-4786-a23b-dda3e7612802",
   "metadata": {},
   "outputs": [
    {
     "name": "stdout",
     "output_type": "stream",
     "text": [
      "Requirement already satisfied: numpy==1.26.4 in c:\\users\\owner\\anaconda3\\envs\\test_env\\lib\\site-packages (1.26.4)\n",
      "Requirement already satisfied: pandas==2.2.2 in c:\\users\\owner\\anaconda3\\envs\\test_env\\lib\\site-packages (2.2.2)\n",
      "Requirement already satisfied: scikit-learn==1.5.1 in c:\\users\\owner\\anaconda3\\envs\\test_env\\lib\\site-packages (1.5.1)\n",
      "Requirement already satisfied: statsmodels==0.14.2 in c:\\users\\owner\\anaconda3\\envs\\test_env\\lib\\site-packages (0.14.2)\n",
      "Requirement already satisfied: imbalanced-learn==0.12.3 in c:\\users\\owner\\anaconda3\\envs\\test_env\\lib\\site-packages (0.12.3)\n",
      "Requirement already satisfied: matplotlib==3.9.2 in c:\\users\\owner\\anaconda3\\envs\\test_env\\lib\\site-packages (3.9.2)\n",
      "Requirement already satisfied: scipy==1.13.1 in c:\\users\\owner\\anaconda3\\envs\\test_env\\lib\\site-packages (1.13.1)\n",
      "Requirement already satisfied: openpyxl==3.1.5 in c:\\users\\owner\\anaconda3\\envs\\test_env\\lib\\site-packages (3.1.5)\n",
      "Requirement already satisfied: python-dateutil>=2.8.2 in c:\\users\\owner\\anaconda3\\envs\\test_env\\lib\\site-packages (from pandas==2.2.2) (2.9.0.post0)\n",
      "Requirement already satisfied: pytz>=2020.1 in c:\\users\\owner\\anaconda3\\envs\\test_env\\lib\\site-packages (from pandas==2.2.2) (2024.2)\n",
      "Requirement already satisfied: tzdata>=2022.7 in c:\\users\\owner\\anaconda3\\envs\\test_env\\lib\\site-packages (from pandas==2.2.2) (2025.1)\n",
      "Requirement already satisfied: joblib>=1.2.0 in c:\\users\\owner\\anaconda3\\envs\\test_env\\lib\\site-packages (from scikit-learn==1.5.1) (1.4.2)\n",
      "Requirement already satisfied: threadpoolctl>=3.1.0 in c:\\users\\owner\\anaconda3\\envs\\test_env\\lib\\site-packages (from scikit-learn==1.5.1) (3.5.0)\n",
      "Requirement already satisfied: patsy>=0.5.6 in c:\\users\\owner\\anaconda3\\envs\\test_env\\lib\\site-packages (from statsmodels==0.14.2) (1.0.1)\n",
      "Requirement already satisfied: packaging>=21.3 in c:\\users\\owner\\anaconda3\\envs\\test_env\\lib\\site-packages (from statsmodels==0.14.2) (24.2)\n",
      "Requirement already satisfied: contourpy>=1.0.1 in c:\\users\\owner\\anaconda3\\envs\\test_env\\lib\\site-packages (from matplotlib==3.9.2) (1.3.1)\n",
      "Requirement already satisfied: cycler>=0.10 in c:\\users\\owner\\anaconda3\\envs\\test_env\\lib\\site-packages (from matplotlib==3.9.2) (0.12.1)\n",
      "Requirement already satisfied: fonttools>=4.22.0 in c:\\users\\owner\\anaconda3\\envs\\test_env\\lib\\site-packages (from matplotlib==3.9.2) (4.55.4)\n",
      "Requirement already satisfied: kiwisolver>=1.3.1 in c:\\users\\owner\\anaconda3\\envs\\test_env\\lib\\site-packages (from matplotlib==3.9.2) (1.4.8)\n",
      "Requirement already satisfied: pillow>=8 in c:\\users\\owner\\anaconda3\\envs\\test_env\\lib\\site-packages (from matplotlib==3.9.2) (11.1.0)\n",
      "Requirement already satisfied: pyparsing>=2.3.1 in c:\\users\\owner\\anaconda3\\envs\\test_env\\lib\\site-packages (from matplotlib==3.9.2) (3.2.1)\n",
      "Requirement already satisfied: et-xmlfile in c:\\users\\owner\\anaconda3\\envs\\test_env\\lib\\site-packages (from openpyxl==3.1.5) (2.0.0)\n",
      "Requirement already satisfied: six>=1.5 in c:\\users\\owner\\anaconda3\\envs\\test_env\\lib\\site-packages (from python-dateutil>=2.8.2->pandas==2.2.2) (1.16.0)\n"
     ]
    }
   ],
   "source": [
    "!pip install numpy==1.26.4 pandas==2.2.2 scikit-learn==1.5.1 statsmodels==0.14.2 imbalanced-learn==0.12.3 matplotlib==3.9.2 scipy==1.13.1 openpyxl==3.1.5"
   ]
  },
  {
   "cell_type": "code",
   "execution_count": 2,
   "id": "227c9080-02b4-4124-89fb-1a968b29a21e",
   "metadata": {
    "id": "227c9080-02b4-4124-89fb-1a968b29a21e"
   },
   "outputs": [],
   "source": [
    "import pandas as pd\n",
    "import numpy as np\n",
    "import statsmodels.api as sm\n",
    "from statsmodels.formula.api import ols\n",
    "from imblearn.over_sampling import RandomOverSampler\n",
    "from sklearn.model_selection import train_test_split\n",
    "from sklearn.dummy import DummyClassifier\n",
    "from sklearn.ensemble import RandomForestClassifier\n",
    "from sklearn.metrics import classification_report, cohen_kappa_score, accuracy_score\n",
    "import matplotlib.pyplot as plt\n",
    "from scipy.spatial.distance import cdist\n",
    "from scipy.spatial import KDTree"
   ]
  },
  {
   "cell_type": "markdown",
   "id": "8345e9f2-f30d-4437-aece-e3125d77604a",
   "metadata": {},
   "source": [
    "### Early Period Analysis"
   ]
  },
  {
   "cell_type": "code",
   "execution_count": 3,
   "id": "f5d4981b-4ecd-4d09-8ad9-46569f84818f",
   "metadata": {},
   "outputs": [],
   "source": [
    "periods = ['Late_Chal', 'EBI', 'EBII', 'EBIII', 'IB']"
   ]
  },
  {
   "cell_type": "markdown",
   "id": "47056989-d1bc-49a0-a7c7-6a3b74a8815d",
   "metadata": {},
   "source": [
    "#### Data import and processing"
   ]
  },
  {
   "cell_type": "code",
   "execution_count": 4,
   "id": "5014b97c-d9df-4134-a6a1-9245f77694cc",
   "metadata": {},
   "outputs": [],
   "source": [
    "df_early = pd.read_excel('data/settlement_data.xlsx','Early Periods')\n",
    "df_early.loc[df_early['size(ha)']==0, 'size(ha)'] = None"
   ]
  },
  {
   "cell_type": "markdown",
   "id": "b99f5a66-27c3-4168-8347-f1b978501cb5",
   "metadata": {},
   "source": [
    "#### Descriptive Statistics"
   ]
  },
  {
   "cell_type": "code",
   "execution_count": 5,
   "id": "5527ce18-99e8-47bf-8a85-6ff32d2c44e9",
   "metadata": {},
   "outputs": [
    {
     "data": {
      "text/html": [
       "<div>\n",
       "<style scoped>\n",
       "    .dataframe tbody tr th:only-of-type {\n",
       "        vertical-align: middle;\n",
       "    }\n",
       "\n",
       "    .dataframe tbody tr th {\n",
       "        vertical-align: top;\n",
       "    }\n",
       "\n",
       "    .dataframe thead th {\n",
       "        text-align: right;\n",
       "    }\n",
       "</style>\n",
       "<table border=\"1\" class=\"dataframe\">\n",
       "  <thead>\n",
       "    <tr style=\"text-align: right;\">\n",
       "      <th></th>\n",
       "      <th>Period</th>\n",
       "      <th>#</th>\n",
       "      <th>Continued</th>\n",
       "      <th>Abandoned</th>\n",
       "      <th>New</th>\n",
       "    </tr>\n",
       "  </thead>\n",
       "  <tbody>\n",
       "    <tr>\n",
       "      <th>0</th>\n",
       "      <td>Late_Chal</td>\n",
       "      <td>107</td>\n",
       "      <td>74.0</td>\n",
       "      <td>33.0</td>\n",
       "      <td>NaN</td>\n",
       "    </tr>\n",
       "    <tr>\n",
       "      <th>1</th>\n",
       "      <td>EBI</td>\n",
       "      <td>170</td>\n",
       "      <td>78.0</td>\n",
       "      <td>92.0</td>\n",
       "      <td>96.0</td>\n",
       "    </tr>\n",
       "    <tr>\n",
       "      <th>2</th>\n",
       "      <td>EBII</td>\n",
       "      <td>123</td>\n",
       "      <td>33.0</td>\n",
       "      <td>90.0</td>\n",
       "      <td>45.0</td>\n",
       "    </tr>\n",
       "    <tr>\n",
       "      <th>3</th>\n",
       "      <td>EBIII</td>\n",
       "      <td>35</td>\n",
       "      <td>16.0</td>\n",
       "      <td>19.0</td>\n",
       "      <td>2.0</td>\n",
       "    </tr>\n",
       "    <tr>\n",
       "      <th>4</th>\n",
       "      <td>IB</td>\n",
       "      <td>71</td>\n",
       "      <td>NaN</td>\n",
       "      <td>NaN</td>\n",
       "      <td>55.0</td>\n",
       "    </tr>\n",
       "  </tbody>\n",
       "</table>\n",
       "</div>"
      ],
      "text/plain": [
       "      Period    #  Continued  Abandoned   New\n",
       "0  Late_Chal  107       74.0       33.0   NaN\n",
       "1        EBI  170       78.0       92.0  96.0\n",
       "2       EBII  123       33.0       90.0  45.0\n",
       "3      EBIII   35       16.0       19.0   2.0\n",
       "4         IB   71        NaN        NaN  55.0"
      ]
     },
     "execution_count": 5,
     "metadata": {},
     "output_type": "execute_result"
    }
   ],
   "source": [
    "# settlements by status and period\n",
    "r = []\n",
    "for i in range(len(periods)):\n",
    "    period = periods[i]\n",
    "    s = df_early[df_early[period]==1]\n",
    "    if i == 0:\n",
    "        r.append([period, len(s), len(s[s[periods[i+1]]==1]), len(s[s[periods[i+1]]==0]), np.nan])\n",
    "    elif i == len(periods)-1:\n",
    "        r.append([period, len(s), np.nan, np.nan, len(s[s[periods[i-1]]==0])])\n",
    "    else:\n",
    "        r.append([period, len(s), len(s[s[periods[i+1]]==1]), len(s[s[periods[i+1]]==0]), len(s[s[periods[i-1]]==0])])\n",
    "pd.DataFrame(r, columns=['Period', '#', 'Continued', 'Abandoned', 'New'])"
   ]
  },
  {
   "cell_type": "code",
   "execution_count": 6,
   "id": "ea89b400-8e74-49da-8656-964312d682e1",
   "metadata": {},
   "outputs": [
    {
     "data": {
      "text/html": [
       "<div>\n",
       "<style scoped>\n",
       "    .dataframe tbody tr th:only-of-type {\n",
       "        vertical-align: middle;\n",
       "    }\n",
       "\n",
       "    .dataframe tbody tr th {\n",
       "        vertical-align: top;\n",
       "    }\n",
       "\n",
       "    .dataframe thead th {\n",
       "        text-align: right;\n",
       "    }\n",
       "</style>\n",
       "<table border=\"1\" class=\"dataframe\">\n",
       "  <thead>\n",
       "    <tr style=\"text-align: right;\">\n",
       "      <th></th>\n",
       "      <th>50%</th>\n",
       "      <th>25%</th>\n",
       "      <th>75%</th>\n",
       "      <th>mean</th>\n",
       "    </tr>\n",
       "  </thead>\n",
       "  <tbody>\n",
       "    <tr>\n",
       "      <th>(L. Chal, All)</th>\n",
       "      <td>1.5</td>\n",
       "      <td>1.000</td>\n",
       "      <td>3.25</td>\n",
       "      <td>2.859559</td>\n",
       "    </tr>\n",
       "    <tr>\n",
       "      <th>(L. Chal, Continued)</th>\n",
       "      <td>2.0</td>\n",
       "      <td>1.000</td>\n",
       "      <td>5.00</td>\n",
       "      <td>3.522093</td>\n",
       "    </tr>\n",
       "    <tr>\n",
       "      <th>(L. Chal, Abandoned)</th>\n",
       "      <td>1.0</td>\n",
       "      <td>0.800</td>\n",
       "      <td>2.00</td>\n",
       "      <td>1.720000</td>\n",
       "    </tr>\n",
       "    <tr>\n",
       "      <th>(EBI, All)</th>\n",
       "      <td>2.0</td>\n",
       "      <td>1.000</td>\n",
       "      <td>4.00</td>\n",
       "      <td>3.723113</td>\n",
       "    </tr>\n",
       "    <tr>\n",
       "      <th>(EBI, Continued)</th>\n",
       "      <td>3.0</td>\n",
       "      <td>1.725</td>\n",
       "      <td>5.00</td>\n",
       "      <td>5.156667</td>\n",
       "    </tr>\n",
       "    <tr>\n",
       "      <th>(EBI, Abandoned)</th>\n",
       "      <td>1.0</td>\n",
       "      <td>0.525</td>\n",
       "      <td>2.00</td>\n",
       "      <td>1.853261</td>\n",
       "    </tr>\n",
       "    <tr>\n",
       "      <th>(EBII, All)</th>\n",
       "      <td>3.0</td>\n",
       "      <td>1.375</td>\n",
       "      <td>5.00</td>\n",
       "      <td>4.642708</td>\n",
       "    </tr>\n",
       "    <tr>\n",
       "      <th>(EBII, Continued)</th>\n",
       "      <td>5.0</td>\n",
       "      <td>2.750</td>\n",
       "      <td>12.00</td>\n",
       "      <td>9.507407</td>\n",
       "    </tr>\n",
       "    <tr>\n",
       "      <th>(EBII, Abandoned)</th>\n",
       "      <td>2.0</td>\n",
       "      <td>1.000</td>\n",
       "      <td>4.00</td>\n",
       "      <td>2.739130</td>\n",
       "    </tr>\n",
       "    <tr>\n",
       "      <th>(EBIII, All)</th>\n",
       "      <td>5.0</td>\n",
       "      <td>3.000</td>\n",
       "      <td>12.00</td>\n",
       "      <td>9.265517</td>\n",
       "    </tr>\n",
       "    <tr>\n",
       "      <th>(EBIII, Continued)</th>\n",
       "      <td>3.5</td>\n",
       "      <td>1.750</td>\n",
       "      <td>6.00</td>\n",
       "      <td>4.713333</td>\n",
       "    </tr>\n",
       "    <tr>\n",
       "      <th>(EBIII, Abandoned)</th>\n",
       "      <td>11.0</td>\n",
       "      <td>4.625</td>\n",
       "      <td>20.00</td>\n",
       "      <td>14.142857</td>\n",
       "    </tr>\n",
       "  </tbody>\n",
       "</table>\n",
       "</div>"
      ],
      "text/plain": [
       "                       50%    25%    75%       mean\n",
       "(L. Chal, All)         1.5  1.000   3.25   2.859559\n",
       "(L. Chal, Continued)   2.0  1.000   5.00   3.522093\n",
       "(L. Chal, Abandoned)   1.0  0.800   2.00   1.720000\n",
       "(EBI, All)             2.0  1.000   4.00   3.723113\n",
       "(EBI, Continued)       3.0  1.725   5.00   5.156667\n",
       "(EBI, Abandoned)       1.0  0.525   2.00   1.853261\n",
       "(EBII, All)            3.0  1.375   5.00   4.642708\n",
       "(EBII, Continued)      5.0  2.750  12.00   9.507407\n",
       "(EBII, Abandoned)      2.0  1.000   4.00   2.739130\n",
       "(EBIII, All)           5.0  3.000  12.00   9.265517\n",
       "(EBIII, Continued)     3.5  1.750   6.00   4.713333\n",
       "(EBIII, Abandoned)    11.0  4.625  20.00  14.142857"
      ]
     },
     "execution_count": 6,
     "metadata": {},
     "output_type": "execute_result"
    }
   ],
   "source": [
    "# seetlment population size, by period and status \n",
    "pd.DataFrame([df_early[df_early.Late_Chal==1]['size(ha)'].describe()[['50%', '25%', '75%', 'mean']],\n",
    "             df_early[(df_early.Late_Chal==1) & (df_early.EBI==1)]['size(ha)'].describe()[['50%', '25%', '75%', 'mean']],\n",
    "             df_early[(df_early.Late_Chal==1) & (df_early.EBI==0)]['size(ha)'].describe()[['50%', '25%', '75%', 'mean']],\n",
    "             df_early[df_early.EBI==1]['size(ha)'].describe()[['50%', '25%', '75%', 'mean']],\n",
    "             df_early[(df_early.EBI==1) & (df_early.EBII==1)]['size(ha)'].describe()[['50%', '25%', '75%', 'mean']],\n",
    "             df_early[(df_early.EBI==1) & (df_early.EBII==0)]['size(ha)'].describe()[['50%', '25%', '75%', 'mean']],\n",
    "             df_early[df_early.EBII==1]['size(ha)'].describe()[['50%', '25%', '75%', 'mean']],\n",
    "             df_early[(df_early.EBII==1) & (df_early.EBIII==1)]['size(ha)'].describe()[['50%', '25%', '75%', 'mean']],\n",
    "             df_early[(df_early.EBII==1) & (df_early.EBIII==0)]['size(ha)'].describe()[['50%', '25%', '75%', 'mean']],\n",
    "             df_early[df_early.EBIII==1]['size(ha)'].describe()[['50%', '25%', '75%', 'mean']],\n",
    "             df_early[(df_early.EBIII==1) & (df_early.IB==1)]['size(ha)'].describe()[['50%', '25%', '75%', 'mean']],\n",
    "             df_early[(df_early.EBIII==1) & (df_early.IB==0)]['size(ha)'].describe()[['50%', '25%', '75%', 'mean']]],\n",
    "            index=[('L. Chal', 'All'), ('L. Chal', 'Continued'), ('L. Chal', 'Abandoned'),\n",
    "                  ('EBI', 'All'), ('EBI', 'Continued'), ('EBI', 'Abandoned'),\n",
    "                  ('EBII', 'All'), ('EBII', 'Continued'), ('EBII', 'Abandoned'),\n",
    "                  ('EBIII', 'All'), ('EBIII', 'Continued'), ('EBIII', 'Abandoned')])"
   ]
  },
  {
   "cell_type": "markdown",
   "id": "ad92be2d-2d24-44b9-aac7-5e83625955f7",
   "metadata": {},
   "source": [
    "####  Hypothesis 1: Smaller settlements are more likely to be abandoned"
   ]
  },
  {
   "cell_type": "code",
   "execution_count": 7,
   "id": "de2b346b-d687-4853-b373-8ed717173d9b",
   "metadata": {},
   "outputs": [
    {
     "name": "stderr",
     "output_type": "stream",
     "text": [
      "C:\\Users\\Owner\\AppData\\Local\\Temp\\ipykernel_12000\\887774367.py:8: FutureWarning: The behavior of DataFrame concatenation with empty or all-NA entries is deprecated. In a future version, this will no longer exclude empty or all-NA columns when determining the result dtypes. To retain the old behavior, exclude the relevant entries before the concat operation.\n",
      "  abandoned = pd.concat((abandoned, s[['Heb_Name', 'size(ha)', 'Abandoned', 'Period']]))\n"
     ]
    }
   ],
   "source": [
    "abandoned = pd.DataFrame([], columns=['Heb_Name', 'size(ha)', 'Abandoned', 'Period'])\n",
    "for i in range(len(periods)-1):\n",
    "    period = periods[i]\n",
    "    s = df_early[(df_early[period]==1) & (~df_early['size(ha)'].isnull())].copy()\n",
    "    s['Period'] = period\n",
    "    s['Abandoned'] = 'no'\n",
    "    s.loc[s[periods[i+1]]==0, 'Abandoned'] = 'yes'\n",
    "    abandoned = pd.concat((abandoned, s[['Heb_Name', 'size(ha)', 'Abandoned', 'Period']]))\n",
    "abandoned.rename(columns={'size(ha)':'Size'}, inplace=True)"
   ]
  },
  {
   "cell_type": "code",
   "execution_count": 8,
   "id": "41e4f15e-5323-44d1-8646-3f402cacf0cb",
   "metadata": {},
   "outputs": [
    {
     "data": {
      "text/html": [
       "<div>\n",
       "<style scoped>\n",
       "    .dataframe tbody tr th:only-of-type {\n",
       "        vertical-align: middle;\n",
       "    }\n",
       "\n",
       "    .dataframe tbody tr th {\n",
       "        vertical-align: top;\n",
       "    }\n",
       "\n",
       "    .dataframe thead th {\n",
       "        text-align: right;\n",
       "    }\n",
       "</style>\n",
       "<table border=\"1\" class=\"dataframe\">\n",
       "  <thead>\n",
       "    <tr style=\"text-align: right;\">\n",
       "      <th></th>\n",
       "      <th>sum_sq</th>\n",
       "      <th>df</th>\n",
       "      <th>F</th>\n",
       "      <th>PR(&gt;F)</th>\n",
       "    </tr>\n",
       "  </thead>\n",
       "  <tbody>\n",
       "    <tr>\n",
       "      <th>C(Period)</th>\n",
       "      <td>1035.592540</td>\n",
       "      <td>3.0</td>\n",
       "      <td>9.522739</td>\n",
       "      <td>5.098874e-06</td>\n",
       "    </tr>\n",
       "    <tr>\n",
       "      <th>C(Abandoned)</th>\n",
       "      <td>460.327942</td>\n",
       "      <td>1.0</td>\n",
       "      <td>12.698768</td>\n",
       "      <td>4.274448e-04</td>\n",
       "    </tr>\n",
       "    <tr>\n",
       "      <th>C(Period):C(Abandoned)</th>\n",
       "      <td>1408.014289</td>\n",
       "      <td>3.0</td>\n",
       "      <td>12.947325</td>\n",
       "      <td>5.809355e-08</td>\n",
       "    </tr>\n",
       "    <tr>\n",
       "      <th>Residual</th>\n",
       "      <td>10548.695341</td>\n",
       "      <td>291.0</td>\n",
       "      <td>NaN</td>\n",
       "      <td>NaN</td>\n",
       "    </tr>\n",
       "  </tbody>\n",
       "</table>\n",
       "</div>"
      ],
      "text/plain": [
       "                              sum_sq     df          F        PR(>F)\n",
       "C(Period)                1035.592540    3.0   9.522739  5.098874e-06\n",
       "C(Abandoned)              460.327942    1.0  12.698768  4.274448e-04\n",
       "C(Period):C(Abandoned)   1408.014289    3.0  12.947325  5.809355e-08\n",
       "Residual                10548.695341  291.0        NaN           NaN"
      ]
     },
     "execution_count": 8,
     "metadata": {},
     "output_type": "execute_result"
    }
   ],
   "source": [
    "# 2-way ANOVA\n",
    "model = ols('Size ~ C(Period) + C(Abandoned) + C(Period):C(Abandoned)', data=abandoned[~abandoned.Size.isnull()]).fit()\n",
    "sm.stats.anova_lm(model, typ=2)"
   ]
  },
  {
   "cell_type": "markdown",
   "id": "5f9ba51c-c4bb-4810-9487-993ca91dfc5a",
   "metadata": {},
   "source": [
    "#### Hypothesis 2: Niche maps remain stable, settlement maps change "
   ]
  },
  {
   "cell_type": "code",
   "execution_count": 9,
   "id": "9b7b21a3-9ef1-424b-8f0d-0c00c698c18e",
   "metadata": {},
   "outputs": [],
   "source": [
    "# read niche map data, produced via the R maxEnt code\n",
    "niche_maps = {}\n",
    "for period in ['Late_Chal', 'EBI', 'EBII', 'EBIII', 'IB']:\n",
    "    niche_maps[period] = pd.read_csv('data/'+period+'_map.csv')"
   ]
  },
  {
   "cell_type": "code",
   "execution_count": 10,
   "id": "56f1a18f-e42e-4f71-af56-bd4db91a53eb",
   "metadata": {},
   "outputs": [
    {
     "data": {
      "text/html": [
       "<div>\n",
       "<style scoped>\n",
       "    .dataframe tbody tr th:only-of-type {\n",
       "        vertical-align: middle;\n",
       "    }\n",
       "\n",
       "    .dataframe tbody tr th {\n",
       "        vertical-align: top;\n",
       "    }\n",
       "\n",
       "    .dataframe thead th {\n",
       "        text-align: right;\n",
       "    }\n",
       "</style>\n",
       "<table border=\"1\" class=\"dataframe\">\n",
       "  <thead>\n",
       "    <tr style=\"text-align: right;\">\n",
       "      <th></th>\n",
       "      <th>Period 1</th>\n",
       "      <th>Period 2</th>\n",
       "      <th>Kappa</th>\n",
       "    </tr>\n",
       "  </thead>\n",
       "  <tbody>\n",
       "    <tr>\n",
       "      <th>0</th>\n",
       "      <td>Late_Chal</td>\n",
       "      <td>EBI</td>\n",
       "      <td>0.431556</td>\n",
       "    </tr>\n",
       "    <tr>\n",
       "      <th>1</th>\n",
       "      <td>EBI</td>\n",
       "      <td>EBII</td>\n",
       "      <td>0.541992</td>\n",
       "    </tr>\n",
       "    <tr>\n",
       "      <th>2</th>\n",
       "      <td>EBII</td>\n",
       "      <td>EBIII</td>\n",
       "      <td>0.516257</td>\n",
       "    </tr>\n",
       "    <tr>\n",
       "      <th>3</th>\n",
       "      <td>EBIII</td>\n",
       "      <td>IB</td>\n",
       "      <td>0.291178</td>\n",
       "    </tr>\n",
       "  </tbody>\n",
       "</table>\n",
       "</div>"
      ],
      "text/plain": [
       "    Period 1 Period 2     Kappa\n",
       "0  Late_Chal      EBI  0.431556\n",
       "1        EBI     EBII  0.541992\n",
       "2       EBII    EBIII  0.516257\n",
       "3      EBIII       IB  0.291178"
      ]
     },
     "execution_count": 10,
     "metadata": {},
     "output_type": "execute_result"
    }
   ],
   "source": [
    "# compute niche maps' Kappa score\n",
    "kappa_results = []\n",
    "for period1, period2 in [('Late_Chal', 'EBI'), ('EBI', 'EBII'), ('EBII', 'EBIII'), ('EBIII', 'IB')]:\n",
    "    kappa = cohen_kappa_score(niche_maps[period1].Niche==1, niche_maps[period2].Niche==1)\n",
    "    kappa_results.append((period1, period2, kappa))\n",
    "kappa_df = pd.DataFrame(kappa_results, columns=['Period 1', 'Period 2', 'Kappa'])\n",
    "kappa_df"
   ]
  },
  {
   "cell_type": "code",
   "execution_count": 11,
   "id": "024a38e6-a71a-45b6-9673-09bc8b1b970c",
   "metadata": {},
   "outputs": [
    {
     "data": {
      "text/html": [
       "<div>\n",
       "<style scoped>\n",
       "    .dataframe tbody tr th:only-of-type {\n",
       "        vertical-align: middle;\n",
       "    }\n",
       "\n",
       "    .dataframe tbody tr th {\n",
       "        vertical-align: top;\n",
       "    }\n",
       "\n",
       "    .dataframe thead th {\n",
       "        text-align: right;\n",
       "    }\n",
       "</style>\n",
       "<table border=\"1\" class=\"dataframe\">\n",
       "  <thead>\n",
       "    <tr style=\"text-align: right;\">\n",
       "      <th></th>\n",
       "      <th>Period 1</th>\n",
       "      <th>Period 2</th>\n",
       "      <th>Kappa</th>\n",
       "    </tr>\n",
       "  </thead>\n",
       "  <tbody>\n",
       "    <tr>\n",
       "      <th>0</th>\n",
       "      <td>Late_Chal</td>\n",
       "      <td>EBI</td>\n",
       "      <td>0.141376</td>\n",
       "    </tr>\n",
       "    <tr>\n",
       "      <th>1</th>\n",
       "      <td>EBI</td>\n",
       "      <td>EBII</td>\n",
       "      <td>0.069835</td>\n",
       "    </tr>\n",
       "    <tr>\n",
       "      <th>2</th>\n",
       "      <td>EBII</td>\n",
       "      <td>EBIII</td>\n",
       "      <td>0.281250</td>\n",
       "    </tr>\n",
       "    <tr>\n",
       "      <th>3</th>\n",
       "      <td>EBIII</td>\n",
       "      <td>IB</td>\n",
       "      <td>0.165567</td>\n",
       "    </tr>\n",
       "  </tbody>\n",
       "</table>\n",
       "</div>"
      ],
      "text/plain": [
       "    Period 1 Period 2     Kappa\n",
       "0  Late_Chal      EBI  0.141376\n",
       "1        EBI     EBII  0.069835\n",
       "2       EBII    EBIII  0.281250\n",
       "3      EBIII       IB  0.165567"
      ]
     },
     "execution_count": 11,
     "metadata": {},
     "output_type": "execute_result"
    }
   ],
   "source": [
    "# compute settlment maps' Kappa score\n",
    "kappa_results = []\n",
    "for period1, period2 in [('Late_Chal', 'EBI'), ('EBI', 'EBII'), ('EBII', 'EBIII'), ('EBIII', 'IB')]:\n",
    "    kappa = cohen_kappa_score(df_early[period1], df_early[period2])\n",
    "    kappa_results.append((period1, period2, kappa))\n",
    "kappa_df = pd.DataFrame(kappa_results, columns=['Period 1', 'Period 2', 'Kappa'])\n",
    "kappa_df"
   ]
  },
  {
   "cell_type": "markdown",
   "id": "428833bc-8ce4-4696-b983-d2df71e8cea3",
   "metadata": {},
   "source": [
    "### Late Period Analysis"
   ]
  },
  {
   "cell_type": "markdown",
   "id": "9339a1f3-9780-406b-8d7c-d2e2bfc3c033",
   "metadata": {},
   "source": [
    "#### Data import and processing"
   ]
  },
  {
   "cell_type": "code",
   "execution_count": 12,
   "id": "b1d7548d-31c0-48f4-bcb8-dfb5c7311489",
   "metadata": {},
   "outputs": [],
   "source": [
    "periods = [1596, 1881, 1931]"
   ]
  },
  {
   "cell_type": "code",
   "execution_count": 13,
   "id": "5b6975de-b87e-4379-8f23-5ac894efa564",
   "metadata": {
    "id": "5b6975de-b87e-4379-8f23-5ac894efa564"
   },
   "outputs": [],
   "source": [
    "# read data for each period\n",
    "df_Ottoman = pd.read_excel('data/settlement_data.xlsx','1596')\n",
    "df_PEF = pd.read_excel('data/settlement_data.xlsx', '1881')\n",
    "df_Man = pd.read_excel('data/settlement_data.xlsx', '1931')"
   ]
  },
  {
   "cell_type": "code",
   "execution_count": 14,
   "id": "ae8644f6-59b3-45fe-a82e-10b19569f6cc",
   "metadata": {
    "id": "ae8644f6-59b3-45fe-a82e-10b19569f6cc"
   },
   "outputs": [],
   "source": [
    "# merge into single DataFrame\n",
    "df_Ottoman['Period'] = 1596\n",
    "df_PEF['Period'] = 1881\n",
    "df_Man['Period'] = 1931\n",
    "df = pd.concat([df_Ottoman, df_PEF, df_Man])"
   ]
  },
  {
   "cell_type": "code",
   "execution_count": 15,
   "id": "9c867ccc-3bbb-48dd-b070-80e1a156817a",
   "metadata": {
    "id": "9c867ccc-3bbb-48dd-b070-80e1a156817a"
   },
   "outputs": [],
   "source": [
    "df['Coords'] = (df.POINT_X).round(0).astype(str) + ',' + (df.POINT_Y).round(0).astype(str) # round coordinates\n",
    "df.loc[df.Population<=0, 'Population'] = np.nan"
   ]
  },
  {
   "cell_type": "code",
   "execution_count": 16,
   "id": "d5ab81c9-2061-4387-a67e-16d449b096cc",
   "metadata": {
    "colab": {
     "base_uri": "https://localhost:8080/"
    },
    "id": "d5ab81c9-2061-4387-a67e-16d449b096cc",
    "outputId": "648e16bd-9b08-45b5-d036-1c256bcf6130"
   },
   "outputs": [
    {
     "name": "stderr",
     "output_type": "stream",
     "text": [
      "C:\\Users\\Owner\\AppData\\Local\\Temp\\ipykernel_12000\\721990989.py:4: FutureWarning: Setting an item of incompatible dtype is deprecated and will raise an error in a future version of pandas. Value 'yes' has dtype incompatible with float64, please explicitly cast to a compatible dtype first.\n",
      "  df.loc[(df.Period==periods[i]) & (~df.Coords.isin(df[df.Period==periods[i-1]].Coords)), 'New'] = 'yes'\n"
     ]
    }
   ],
   "source": [
    "# identify newly established settlements\n",
    "df['New'] = np.nan\n",
    "for i in range(1, len(periods)):\n",
    "    df.loc[(df.Period==periods[i]) & (~df.Coords.isin(df[df.Period==periods[i-1]].Coords)), 'New'] = 'yes'\n",
    "    df.loc[(df.Period==periods[i]) & (df.Coords.isin(df[df.Period==periods[i-1]].Coords)), 'New'] = 'no'"
   ]
  },
  {
   "cell_type": "markdown",
   "id": "2f9f9410-74b0-475d-866c-4c994f9eb6b3",
   "metadata": {},
   "source": [
    "#### Descriptive statistics"
   ]
  },
  {
   "cell_type": "code",
   "execution_count": 17,
   "id": "e131410c-f25f-4cc0-9a42-84e7930fb764",
   "metadata": {
    "id": "e131410c-f25f-4cc0-9a42-84e7930fb764",
    "outputId": "289fee24-6c64-41ae-bc1c-6b30df3dc431",
    "scrolled": true
   },
   "outputs": [
    {
     "data": {
      "text/html": [
       "<div>\n",
       "<style scoped>\n",
       "    .dataframe tbody tr th:only-of-type {\n",
       "        vertical-align: middle;\n",
       "    }\n",
       "\n",
       "    .dataframe tbody tr th {\n",
       "        vertical-align: top;\n",
       "    }\n",
       "\n",
       "    .dataframe thead th {\n",
       "        text-align: right;\n",
       "    }\n",
       "</style>\n",
       "<table border=\"1\" class=\"dataframe\">\n",
       "  <thead>\n",
       "    <tr style=\"text-align: right;\">\n",
       "      <th></th>\n",
       "      <th>Period</th>\n",
       "      <th>#</th>\n",
       "      <th>Continued</th>\n",
       "      <th>Abandoned</th>\n",
       "      <th>New</th>\n",
       "    </tr>\n",
       "  </thead>\n",
       "  <tbody>\n",
       "    <tr>\n",
       "      <th>0</th>\n",
       "      <td>1596</td>\n",
       "      <td>167</td>\n",
       "      <td>96</td>\n",
       "      <td>71</td>\n",
       "      <td>0</td>\n",
       "    </tr>\n",
       "    <tr>\n",
       "      <th>1</th>\n",
       "      <td>1881</td>\n",
       "      <td>140</td>\n",
       "      <td>116</td>\n",
       "      <td>24</td>\n",
       "      <td>44</td>\n",
       "    </tr>\n",
       "    <tr>\n",
       "      <th>2</th>\n",
       "      <td>1931</td>\n",
       "      <td>232</td>\n",
       "      <td>0</td>\n",
       "      <td>0</td>\n",
       "      <td>116</td>\n",
       "    </tr>\n",
       "  </tbody>\n",
       "</table>\n",
       "</div>"
      ],
      "text/plain": [
       "   Period    #  Continued  Abandoned  New\n",
       "0    1596  167         96         71    0\n",
       "1    1881  140        116         24   44\n",
       "2    1931  232          0          0  116"
      ]
     },
     "execution_count": 17,
     "metadata": {},
     "output_type": "execute_result"
    }
   ],
   "source": [
    "# settlements by period and type\n",
    "pd.DataFrame([[p, df[df.Period==p].Village.count(), df[(df.Period==p) & (df.Continued=='yes')].Village.count(),\n",
    "              df[(df.Period==p) & (df.Continued=='no')].Village.count(),\n",
    "              df[(df.Period==p) & (df.New=='yes')].Village.count()] for p in periods],\n",
    "            columns=['Period', '#', 'Continued', 'Abandoned', 'New'])"
   ]
  },
  {
   "cell_type": "code",
   "execution_count": 18,
   "id": "9cefb7e4-357d-4edd-97ca-f8ccf3b49e90",
   "metadata": {},
   "outputs": [
    {
     "data": {
      "text/html": [
       "<div>\n",
       "<style scoped>\n",
       "    .dataframe tbody tr th:only-of-type {\n",
       "        vertical-align: middle;\n",
       "    }\n",
       "\n",
       "    .dataframe tbody tr th {\n",
       "        vertical-align: top;\n",
       "    }\n",
       "\n",
       "    .dataframe thead th {\n",
       "        text-align: right;\n",
       "    }\n",
       "</style>\n",
       "<table border=\"1\" class=\"dataframe\">\n",
       "  <thead>\n",
       "    <tr style=\"text-align: right;\">\n",
       "      <th></th>\n",
       "      <th>50%</th>\n",
       "      <th>25%</th>\n",
       "      <th>75%</th>\n",
       "      <th>mean</th>\n",
       "    </tr>\n",
       "  </thead>\n",
       "  <tbody>\n",
       "    <tr>\n",
       "      <th>(1596, All)</th>\n",
       "      <td>145.0</td>\n",
       "      <td>70.0</td>\n",
       "      <td>330.5</td>\n",
       "      <td>328.257485</td>\n",
       "    </tr>\n",
       "    <tr>\n",
       "      <th>(1596, Continued)</th>\n",
       "      <td>231.0</td>\n",
       "      <td>110.0</td>\n",
       "      <td>436.0</td>\n",
       "      <td>465.010417</td>\n",
       "    </tr>\n",
       "    <tr>\n",
       "      <th>(1596, Abandoned)</th>\n",
       "      <td>90.0</td>\n",
       "      <td>50.0</td>\n",
       "      <td>151.0</td>\n",
       "      <td>143.352113</td>\n",
       "    </tr>\n",
       "    <tr>\n",
       "      <th>(1881, All)</th>\n",
       "      <td>200.0</td>\n",
       "      <td>106.0</td>\n",
       "      <td>400.0</td>\n",
       "      <td>474.857143</td>\n",
       "    </tr>\n",
       "    <tr>\n",
       "      <th>(1881, Continued)</th>\n",
       "      <td>200.0</td>\n",
       "      <td>150.0</td>\n",
       "      <td>400.0</td>\n",
       "      <td>535.344828</td>\n",
       "    </tr>\n",
       "    <tr>\n",
       "      <th>(1881, Abandoned)</th>\n",
       "      <td>100.0</td>\n",
       "      <td>80.0</td>\n",
       "      <td>170.0</td>\n",
       "      <td>182.500000</td>\n",
       "    </tr>\n",
       "  </tbody>\n",
       "</table>\n",
       "</div>"
      ],
      "text/plain": [
       "                     50%    25%    75%        mean\n",
       "(1596, All)        145.0   70.0  330.5  328.257485\n",
       "(1596, Continued)  231.0  110.0  436.0  465.010417\n",
       "(1596, Abandoned)   90.0   50.0  151.0  143.352113\n",
       "(1881, All)        200.0  106.0  400.0  474.857143\n",
       "(1881, Continued)  200.0  150.0  400.0  535.344828\n",
       "(1881, Abandoned)  100.0   80.0  170.0  182.500000"
      ]
     },
     "execution_count": 18,
     "metadata": {},
     "output_type": "execute_result"
    }
   ],
   "source": [
    "# seetlment population size, by period and status \n",
    "pd.DataFrame([df[df.Period==1596].Population.describe()[['50%', '25%', '75%', 'mean']],\n",
    "             df[(df.Period==1596) & (df.Continued=='yes')].Population.describe()[['50%', '25%', '75%', 'mean']],\n",
    "             df[(df.Period==1596) & (df.Continued=='no')].Population.describe()[['50%', '25%', '75%', 'mean']],\n",
    "             df[df.Period==1881].Population.describe()[['50%', '25%', '75%', 'mean']],\n",
    "             df[(df.Period==1881) & (df.Continued=='yes')].Population.describe()[['50%', '25%', '75%', 'mean']],\n",
    "             df[(df.Period==1881) & (df.Continued=='no')].Population.describe()[['50%', '25%', '75%', 'mean']]], \n",
    "             index=[(1596, 'All'), (1596, 'Continued'), (1596, 'Abandoned'), (1881, 'All'), (1881, 'Continued'), (1881, 'Abandoned')])"
   ]
  },
  {
   "cell_type": "markdown",
   "id": "bf338725-d045-4e37-a9be-3ab688557557",
   "metadata": {
    "id": "bf338725-d045-4e37-a9be-3ab688557557"
   },
   "source": [
    "####  Hypothesis 1: Smaller settlements are more likely to be abandoned"
   ]
  },
  {
   "cell_type": "code",
   "execution_count": 19,
   "id": "79a7f69f-632a-4a74-ac22-d7cf2d7cbebf",
   "metadata": {
    "id": "79a7f69f-632a-4a74-ac22-d7cf2d7cbebf"
   },
   "outputs": [],
   "source": [
    "# identify abandoned settlements \n",
    "df['Abandoned'] = np.nan\n",
    "df.loc[df.Continued=='yes', 'Abandoned'] = 0\n",
    "df.loc[df.Continued=='no', 'Abandoned'] = 1"
   ]
  },
  {
   "cell_type": "code",
   "execution_count": 20,
   "id": "000cd1ba-681a-435c-aa32-3c9567627cb1",
   "metadata": {
    "colab": {
     "base_uri": "https://localhost:8080/",
     "height": 342
    },
    "id": "000cd1ba-681a-435c-aa32-3c9567627cb1",
    "outputId": "12b60513-73e3-423f-9248-98009a6117de"
   },
   "outputs": [
    {
     "data": {
      "text/html": [
       "<div>\n",
       "<style scoped>\n",
       "    .dataframe tbody tr th:only-of-type {\n",
       "        vertical-align: middle;\n",
       "    }\n",
       "\n",
       "    .dataframe tbody tr th {\n",
       "        vertical-align: top;\n",
       "    }\n",
       "\n",
       "    .dataframe thead th {\n",
       "        text-align: right;\n",
       "    }\n",
       "</style>\n",
       "<table border=\"1\" class=\"dataframe\">\n",
       "  <thead>\n",
       "    <tr style=\"text-align: right;\">\n",
       "      <th></th>\n",
       "      <th>sum_sq</th>\n",
       "      <th>df</th>\n",
       "      <th>F</th>\n",
       "      <th>PR(&gt;F)</th>\n",
       "    </tr>\n",
       "  </thead>\n",
       "  <tbody>\n",
       "    <tr>\n",
       "      <th>C(Period)</th>\n",
       "      <td>2.743384e+05</td>\n",
       "      <td>1.0</td>\n",
       "      <td>0.288097</td>\n",
       "      <td>0.591836</td>\n",
       "    </tr>\n",
       "    <tr>\n",
       "      <th>C(Abandoned)</th>\n",
       "      <td>6.685577e+06</td>\n",
       "      <td>1.0</td>\n",
       "      <td>7.020883</td>\n",
       "      <td>0.008479</td>\n",
       "    </tr>\n",
       "    <tr>\n",
       "      <th>C(Period):C(Abandoned)</th>\n",
       "      <td>1.300466e+04</td>\n",
       "      <td>1.0</td>\n",
       "      <td>0.013657</td>\n",
       "      <td>0.907046</td>\n",
       "    </tr>\n",
       "    <tr>\n",
       "      <th>Residual</th>\n",
       "      <td>2.885292e+08</td>\n",
       "      <td>303.0</td>\n",
       "      <td>NaN</td>\n",
       "      <td>NaN</td>\n",
       "    </tr>\n",
       "  </tbody>\n",
       "</table>\n",
       "</div>"
      ],
      "text/plain": [
       "                              sum_sq     df         F    PR(>F)\n",
       "C(Period)               2.743384e+05    1.0  0.288097  0.591836\n",
       "C(Abandoned)            6.685577e+06    1.0  7.020883  0.008479\n",
       "C(Period):C(Abandoned)  1.300466e+04    1.0  0.013657  0.907046\n",
       "Residual                2.885292e+08  303.0       NaN       NaN"
      ]
     },
     "execution_count": 20,
     "metadata": {},
     "output_type": "execute_result"
    }
   ],
   "source": [
    "# 2-way ANOVA\n",
    "model = ols('Population ~ C(Period) + C(Abandoned) + C(Period):C(Abandoned)', data=df[df.Period!=1931]).fit()\n",
    "sm.stats.anova_lm(model, typ=2)"
   ]
  },
  {
   "cell_type": "markdown",
   "id": "250150f8-dfae-481a-b798-1d27377d9b36",
   "metadata": {
    "id": "250150f8-dfae-481a-b798-1d27377d9b36"
   },
   "source": [
    "#### Supporting analysis for Hypothesis 1: Feature importance of population size in predicting abandonment"
   ]
  },
  {
   "cell_type": "code",
   "execution_count": 21,
   "id": "f6b9d278-c64a-4d81-b8b7-5d15a3623b2d",
   "metadata": {
    "id": "f6b9d278-c64a-4d81-b8b7-5d15a3623b2d"
   },
   "outputs": [],
   "source": [
    "df['rain'] = df.Precip__11 + df.Precip_12+df.Precip_1 + df.Precip_2+df.Precip_3 # compute annual rainfall"
   ]
  },
  {
   "cell_type": "code",
   "execution_count": 22,
   "id": "31801607-49f6-471d-ad03-8d54a5490201",
   "metadata": {
    "id": "31801607-49f6-471d-ad03-8d54a5490201"
   },
   "outputs": [],
   "source": [
    "# produce features array (X) and labels (y)\n",
    "X = df[df.Period != 1931][['POINT_X', 'POINT_Y', 'Population', 'Height', 'Slope_100', 'NEAR_Spring',\n",
    "       'NEAR_Chlak', 'rain', 'NEAR_Sea']].rename(columns={'POINT_X':'Longitude', 'POINT_Y':'Latitude', 'Height':'Elevation',\n",
    "                                                              'Slope_100':'Slope', 'NEAR_Spring':'Distance from spring',\n",
    "                                                              'NEAR_Chlak': 'Soft rock',\n",
    "                                                              'rain': ' Annual rain',\n",
    "                                                              'NEAR_Sea': 'Distance from sea',\n",
    "                                                              'Population': 'Population size'\n",
    "                                                            })\n",
    "y = np.where(df[df.Period != 1931].Continued=='yes', 1, 0)"
   ]
  },
  {
   "cell_type": "code",
   "execution_count": 23,
   "id": "39e23843-7bd8-4b2a-80b0-4e795d33a07c",
   "metadata": {
    "id": "39e23843-7bd8-4b2a-80b0-4e795d33a07c"
   },
   "outputs": [],
   "source": [
    "# Apply Random Undersampling to balance the classes\n",
    "oversampler = RandomOverSampler()\n",
    "X, y = oversampler.fit_resample(X, y)\n",
    "\n",
    "# Split data into training and testing sets\n",
    "X_train, X_test, y_train, y_test = train_test_split(X, y, test_size=0.2)"
   ]
  },
  {
   "cell_type": "code",
   "execution_count": 24,
   "id": "0895305a-8e2f-4268-a2ec-3ef580389ae1",
   "metadata": {
    "id": "0895305a-8e2f-4268-a2ec-3ef580389ae1",
    "outputId": "cff312b3-fd7a-46a5-c253-28fa58afdfb8"
   },
   "outputs": [
    {
     "name": "stdout",
     "output_type": "stream",
     "text": [
      "              precision    recall  f1-score   support\n",
      "\n",
      "           0       0.48      1.00      0.65        41\n",
      "           1       0.00      0.00      0.00        44\n",
      "\n",
      "    accuracy                           0.48        85\n",
      "   macro avg       0.24      0.50      0.33        85\n",
      "weighted avg       0.23      0.48      0.31        85\n",
      "\n",
      "ZeroR Accuracy: 0.4823529411764706\n"
     ]
    },
    {
     "name": "stderr",
     "output_type": "stream",
     "text": [
      "C:\\Users\\Owner\\anaconda3\\envs\\test_env\\Lib\\site-packages\\sklearn\\metrics\\_classification.py:1531: UndefinedMetricWarning: Precision is ill-defined and being set to 0.0 in labels with no predicted samples. Use `zero_division` parameter to control this behavior.\n",
      "  _warn_prf(average, modifier, f\"{metric.capitalize()} is\", len(result))\n",
      "C:\\Users\\Owner\\anaconda3\\envs\\test_env\\Lib\\site-packages\\sklearn\\metrics\\_classification.py:1531: UndefinedMetricWarning: Precision is ill-defined and being set to 0.0 in labels with no predicted samples. Use `zero_division` parameter to control this behavior.\n",
      "  _warn_prf(average, modifier, f\"{metric.capitalize()} is\", len(result))\n",
      "C:\\Users\\Owner\\anaconda3\\envs\\test_env\\Lib\\site-packages\\sklearn\\metrics\\_classification.py:1531: UndefinedMetricWarning: Precision is ill-defined and being set to 0.0 in labels with no predicted samples. Use `zero_division` parameter to control this behavior.\n",
      "  _warn_prf(average, modifier, f\"{metric.capitalize()} is\", len(result))\n"
     ]
    }
   ],
   "source": [
    "# Create a DummyClassifier with strategy 'most_frequent' to implement ZeroR\n",
    "zeroR_model = DummyClassifier(strategy='most_frequent')\n",
    "\n",
    "# Fit the ZeroR model\n",
    "zeroR_model.fit(X_train, y_train)\n",
    "\n",
    "# Predict the majority class for all instances\n",
    "y_pred_zeroR = zeroR_model.predict(X_test)\n",
    "\n",
    "# Evaluate\n",
    "print(classification_report(y_test, y_pred_zeroR))\n",
    "print(\"ZeroR Accuracy:\", accuracy_score(y_test, y_pred_zeroR))"
   ]
  },
  {
   "cell_type": "code",
   "execution_count": 25,
   "id": "2157e2e3-4523-401c-a08d-38e40d8ff86d",
   "metadata": {
    "id": "2157e2e3-4523-401c-a08d-38e40d8ff86d",
    "outputId": "118e5ef6-d3c5-4652-d9e1-1daf8f815f6a"
   },
   "outputs": [
    {
     "name": "stdout",
     "output_type": "stream",
     "text": [
      "              precision    recall  f1-score   support\n",
      "\n",
      "           0       0.83      0.83      0.83        41\n",
      "           1       0.84      0.84      0.84        44\n",
      "\n",
      "    accuracy                           0.84        85\n",
      "   macro avg       0.84      0.84      0.84        85\n",
      "weighted avg       0.84      0.84      0.84        85\n",
      "\n",
      "Random Forest Accuracy:  0.8352941176470589\n"
     ]
    }
   ],
   "source": [
    "# Train random forest model\n",
    "rf_model = RandomForestClassifier()\n",
    "rf_model.fit(X_train, y_train)\n",
    "\n",
    "# Evaluate random forest model\n",
    "rf_y_pred = rf_model.predict(X_test)\n",
    "print(classification_report(y_test, rf_y_pred))\n",
    "print(\"Random Forest Accuracy: \", accuracy_score(y_test, rf_y_pred))"
   ]
  },
  {
   "cell_type": "code",
   "execution_count": 26,
   "id": "aca6b4f2-1cb0-48f0-b523-e125d312436d",
   "metadata": {
    "id": "aca6b4f2-1cb0-48f0-b523-e125d312436d",
    "outputId": "8f934858-9f54-441a-cbf2-8c2b3d1bfa39"
   },
   "outputs": [
    {
     "name": "stdout",
     "output_type": "stream",
     "text": [
      "Feature Importance (Random Forest):\n",
      "Population size         0.260513\n",
      "Soft rock               0.140895\n",
      "Distance from spring    0.113403\n",
      "Latitude                0.091899\n",
      "Slope                   0.089315\n",
      "Distance from sea       0.084177\n",
      "Longitude               0.074775\n",
      " Annual rain            0.073180\n",
      "Elevation               0.071842\n",
      "dtype: float64\n"
     ]
    }
   ],
   "source": [
    "# Save and print feature importance values\n",
    "feature_importances = pd.Series(rf_model.feature_importances_, index=X.columns)\n",
    "print(\"Feature Importance (Random Forest):\")\n",
    "print(feature_importances.sort_values(ascending=False))\n",
    "\n",
    "# Sort feature importance data by values in descending order\n",
    "sorted_feature_importance = sorted(feature_importances.items(), key=lambda x: x[1], reverse=True)\n",
    "\n",
    "# Extract feature names and importance values\n",
    "features = [x[0] for x in sorted_feature_importance]\n",
    "importance = [x[1] for x in sorted_feature_importance]"
   ]
  },
  {
   "cell_type": "code",
   "execution_count": 27,
   "id": "d3f27474-1a15-4ac9-ad96-4d120a144fd2",
   "metadata": {
    "id": "d3f27474-1a15-4ac9-ad96-4d120a144fd2",
    "outputId": "eca24a39-8e40-478d-cbdc-99da94a8978c"
   },
   "outputs": [
    {
     "data": {
      "image/png": "[encoded data removed]",
      "text/plain": [
       "<Figure size 1000x600 with 1 Axes>"
      ]
     },
     "metadata": {},
     "output_type": "display_data"
    }
   ],
   "source": [
    "# Create feature importance bar plot\n",
    "plt.figure(figsize=(10, 6))\n",
    "plt.barh(features, importance, color='skyblue')\n",
    "plt.xlabel('Feature Importance')\n",
    "plt.ylabel('Features')\n",
    "plt.title('Feature Importance (Random Forest)')\n",
    "plt.gca().invert_yaxis()  # Invert y-axis to display most important features at the top\n",
    "plt.tight_layout()\n",
    "plt.show()"
   ]
  },
  {
   "cell_type": "markdown",
   "id": "974de8c2-4a22-43b9-8b72-979928acf44b",
   "metadata": {
    "id": "974de8c2-4a22-43b9-8b72-979928acf44b"
   },
   "source": [
    "#### Hypothesis 2: Niche maps remain stable, settlement maps change"
   ]
  },
  {
   "cell_type": "code",
   "execution_count": 28,
   "id": "11b1a3a8-bfa5-4bc6-9244-9106182cf000",
   "metadata": {
    "id": "11b1a3a8-bfa5-4bc6-9244-9106182cf000",
    "outputId": "aad397cb-bdbf-4017-852f-f6c7646a9916"
   },
   "outputs": [],
   "source": [
    "# read niche map data, produced via the R maxEnt code\n",
    "niche_maps = {}\n",
    "for period in ['1596', '1881', '1931']:\n",
    "    niche_maps[period] = pd.read_csv('data/'+period+'_map.csv')"
   ]
  },
  {
   "cell_type": "code",
   "execution_count": 29,
   "id": "800d7fea-7247-45ef-9c29-c7acb867d310",
   "metadata": {},
   "outputs": [
    {
     "data": {
      "text/html": [
       "<div>\n",
       "<style scoped>\n",
       "    .dataframe tbody tr th:only-of-type {\n",
       "        vertical-align: middle;\n",
       "    }\n",
       "\n",
       "    .dataframe tbody tr th {\n",
       "        vertical-align: top;\n",
       "    }\n",
       "\n",
       "    .dataframe thead th {\n",
       "        text-align: right;\n",
       "    }\n",
       "</style>\n",
       "<table border=\"1\" class=\"dataframe\">\n",
       "  <thead>\n",
       "    <tr style=\"text-align: right;\">\n",
       "      <th></th>\n",
       "      <th>Period 1</th>\n",
       "      <th>Period 2</th>\n",
       "      <th>Kappa</th>\n",
       "    </tr>\n",
       "  </thead>\n",
       "  <tbody>\n",
       "    <tr>\n",
       "      <th>0</th>\n",
       "      <td>1596</td>\n",
       "      <td>1881</td>\n",
       "      <td>0.622049</td>\n",
       "    </tr>\n",
       "    <tr>\n",
       "      <th>1</th>\n",
       "      <td>1881</td>\n",
       "      <td>1931</td>\n",
       "      <td>0.506998</td>\n",
       "    </tr>\n",
       "  </tbody>\n",
       "</table>\n",
       "</div>"
      ],
      "text/plain": [
       "  Period 1 Period 2     Kappa\n",
       "0     1596     1881  0.622049\n",
       "1     1881     1931  0.506998"
      ]
     },
     "execution_count": 29,
     "metadata": {},
     "output_type": "execute_result"
    }
   ],
   "source": [
    "# compute niche maps' Kappa score\n",
    "kappa_results = []\n",
    "for period1, period2 in [('1596', '1881'), ('1881', '1931')]:\n",
    "    kappa = cohen_kappa_score(niche_maps[period1].Niche==1, niche_maps[period2].Niche==1)\n",
    "    kappa_results.append((period1, period2, kappa))\n",
    "kappa_df = pd.DataFrame(kappa_results, columns=['Period 1', 'Period 2', 'Kappa'])\n",
    "kappa_df"
   ]
  },
  {
   "cell_type": "code",
   "execution_count": 30,
   "id": "dEC9LXDG_hwO",
   "metadata": {
    "colab": {
     "base_uri": "https://localhost:8080/",
     "height": 178
    },
    "id": "dEC9LXDG_hwO",
    "outputId": "7edd2ed5-bc6e-4725-aa05-4b150166e7e3"
   },
   "outputs": [],
   "source": [
    "# settlement kappa scores, computed based on the existence of a settlement in the locations in a period and its subsequent period\n",
    "# to avoid creating very close locations, locations are grouped based on a 100m tolerance\n",
    "\n",
    "# Define tolerance (100 meters) and periods\n",
    "tolerance = 100\n",
    "periods = [1596, 1881, 1931]\n",
    "\n",
    "# Group points within the tolerance using KDTree\n",
    "tree = KDTree(df[['POINT_X', 'POINT_Y']].values)\n",
    "groups = tree.query_ball_tree(tree, r=tolerance)\n",
    "\n",
    "# Map each group to a representative point (first in the group)\n",
    "unique_points = {tuple(df.iloc[group[0]][['POINT_X', 'POINT_Y']]): group for group in groups}\n",
    "\n",
    "# Create a new DataFrame with unique points and periods\n",
    "kappa_df = pd.DataFrame({\n",
    "    'POINT_X': [point[0] for point in unique_points.keys()],\n",
    "    'POINT_Y': [point[1] for point in unique_points.keys()],\n",
    "    **{period: 0 for period in periods}\n",
    "})\n",
    "\n",
    "# Populate the periods columns\n",
    "for unique_point, group in unique_points.items():\n",
    "    for idx in group:\n",
    "        period = df.iloc[idx]['Period']\n",
    "        if period in periods:\n",
    "            kappa_df.loc[(kappa_df['POINT_X'] == unique_point[0]) & (kappa_df['POINT_Y'] == unique_point[1]), period] = 1"
   ]
  },
  {
   "cell_type": "code",
   "execution_count": 31,
   "id": "4Ih18_8pDp9i",
   "metadata": {
    "colab": {
     "base_uri": "https://localhost:8080/"
    },
    "id": "4Ih18_8pDp9i",
    "outputId": "68121fdd-22af-4f45-90fd-e42a4e9a301a"
   },
   "outputs": [
    {
     "data": {
      "text/html": [
       "<div>\n",
       "<style scoped>\n",
       "    .dataframe tbody tr th:only-of-type {\n",
       "        vertical-align: middle;\n",
       "    }\n",
       "\n",
       "    .dataframe tbody tr th {\n",
       "        vertical-align: top;\n",
       "    }\n",
       "\n",
       "    .dataframe thead th {\n",
       "        text-align: right;\n",
       "    }\n",
       "</style>\n",
       "<table border=\"1\" class=\"dataframe\">\n",
       "  <thead>\n",
       "    <tr style=\"text-align: right;\">\n",
       "      <th></th>\n",
       "      <th>Period 1</th>\n",
       "      <th>Period 2</th>\n",
       "      <th>Kappa</th>\n",
       "    </tr>\n",
       "  </thead>\n",
       "  <tbody>\n",
       "    <tr>\n",
       "      <th>0</th>\n",
       "      <td>1596</td>\n",
       "      <td>1881</td>\n",
       "      <td>0.270347</td>\n",
       "    </tr>\n",
       "    <tr>\n",
       "      <th>1</th>\n",
       "      <td>1881</td>\n",
       "      <td>1931</td>\n",
       "      <td>0.189414</td>\n",
       "    </tr>\n",
       "  </tbody>\n",
       "</table>\n",
       "</div>"
      ],
      "text/plain": [
       "   Period 1  Period 2     Kappa\n",
       "0      1596      1881  0.270347\n",
       "1      1881      1931  0.189414"
      ]
     },
     "execution_count": 31,
     "metadata": {},
     "output_type": "execute_result"
    }
   ],
   "source": [
    "# compute settlments maps' Kappa score\n",
    "kappa_results = []\n",
    "for period1, period2 in [(1596, 1881), (1881, 1931)]:\n",
    "    kappa = cohen_kappa_score(kappa_df[period1], kappa_df[period2])\n",
    "    kappa_results.append((period1, period2, kappa))\n",
    "kappa_df = pd.DataFrame(kappa_results, columns=['Period 1', 'Period 2', 'Kappa'])\n",
    "kappa_df"
   ]
  },
  {
   "cell_type": "markdown",
   "id": "5fcc0d38-d5a1-4400-b3be-2f0972f65bfc",
   "metadata": {
    "id": "5fcc0d38-d5a1-4400-b3be-2f0972f65bfc"
   },
   "source": [
    "#### Hypothesis 3: New settlements are located near other settlements"
   ]
  },
  {
   "cell_type": "markdown",
   "id": "ab26eec8-f0ab-43c6-b679-f892f5d3f403",
   "metadata": {},
   "source": [
    "Since the analysis includes simulation - computing distance of randomly selected points from existing settlements - we perform multiple random sampling of both new settlements and random points and compute the average distance to the 5 nearest settlements for each such set. Thus, the result is 200 mean distance values - for 100 random samples of new settlements and 100 random samples of random points - for each period"
   ]
  },
  {
   "cell_type": "code",
   "execution_count": 32,
   "id": "2c5c3a4e-a8bc-46fd-bb49-e12ecfe43b58",
   "metadata": {
    "id": "2c5c3a4e-a8bc-46fd-bb49-e12ecfe43b58"
   },
   "outputs": [],
   "source": [
    "settl_num = 5 # number of nearest settlements to identify\n",
    "settelment_type = [] # documents whether new settlements or random points for each observation\n",
    "DIS = [] # documents mean distances for each observation\n",
    "period = [] # documents period for each observation\n",
    "\n",
    "for j in [1,2]:\n",
    "    p = periods[j]\n",
    "    N = round(len(df[(df.Period==p) & (df.New=='yes')])*0.75) # number of observations to sample - 75% of the number of new settlements\n",
    "\n",
    "    for i in range(0,100): # 100 random sets\n",
    "        rand_xy = niche_maps[str(p)][['POINT_X', 'POINT_Y']].sample(N) # draw random points based on niche map for the period\n",
    "\n",
    "        new_settelment = df[(df.Period==p) & (df.New=='yes')][['POINT_X', 'POINT_Y']].sample(N) # draw new settlements\n",
    "        old_settelment = df[df.Period==p][['POINT_X', 'POINT_Y']] # compare to all settlements from the period, including new ones\n",
    "\n",
    "        # distance matrix between new and 'old' settlements\n",
    "        dis = cdist(new_settelment[['POINT_X', 'POINT_Y']], old_settelment[['POINT_X', 'POINT_Y']], 'euclidean')\n",
    "        dis[dis<100] = None\n",
    "        dis.sort(axis=1)\n",
    "        dis = dis[:,1:settl_num] # find distances to 5 nearest settlements per new settlement\n",
    "        min_dis = np.nanmean(dis,axis=1) # mean distance per settlement\n",
    "        min_dis = np.nanmean(min_dis) # mean distance for dataset\n",
    "\n",
    "        # distance matrix between random points and 'old' settlements\n",
    "        rdis = cdist(rand_xy[['POINT_X', 'POINT_Y']], old_settelment[['POINT_X', 'POINT_Y']], 'euclidean')\n",
    "        rdis[rdis<100] = None\n",
    "        rdis.sort(axis=1)\n",
    "        rdis = rdis[:,1:settl_num] # find distances to 5 nearest settlements per random point\n",
    "        rmin_dis = np.nanmean(rdis,axis=1) # mean distance per settlement\n",
    "        rmin_dis = np.nanmean(rmin_dis) # mean distance for dataset\n",
    "\n",
    "        DIS.append(rmin_dis) # append distance to random points\n",
    "        DIS.append(min_dis) # append distance to new settlements\n",
    "        settelment_type.append('random')\n",
    "        settelment_type.append('new settelment')\n",
    "\n",
    "        period.append(p)\n",
    "        period.append(p)"
   ]
  },
  {
   "cell_type": "code",
   "execution_count": 33,
   "id": "d38310bf-5a26-465a-a59e-6798aee151c7",
   "metadata": {
    "id": "d38310bf-5a26-465a-a59e-6798aee151c7",
    "outputId": "a3290ea1-9d97-4cca-e917-f16397328e25"
   },
   "outputs": [
    {
     "data": {
      "text/html": [
       "<div>\n",
       "<style scoped>\n",
       "    .dataframe tbody tr th:only-of-type {\n",
       "        vertical-align: middle;\n",
       "    }\n",
       "\n",
       "    .dataframe tbody tr th {\n",
       "        vertical-align: top;\n",
       "    }\n",
       "\n",
       "    .dataframe thead th {\n",
       "        text-align: right;\n",
       "    }\n",
       "</style>\n",
       "<table border=\"1\" class=\"dataframe\">\n",
       "  <thead>\n",
       "    <tr style=\"text-align: right;\">\n",
       "      <th></th>\n",
       "      <th>sum_sq</th>\n",
       "      <th>df</th>\n",
       "      <th>F</th>\n",
       "      <th>PR(&gt;F)</th>\n",
       "    </tr>\n",
       "  </thead>\n",
       "  <tbody>\n",
       "    <tr>\n",
       "      <th>C(Period)</th>\n",
       "      <td>1.405515e+08</td>\n",
       "      <td>1.0</td>\n",
       "      <td>2640.489967</td>\n",
       "      <td>2.931021e-177</td>\n",
       "    </tr>\n",
       "    <tr>\n",
       "      <th>C(settelment_type)</th>\n",
       "      <td>4.644821e+07</td>\n",
       "      <td>1.0</td>\n",
       "      <td>872.605447</td>\n",
       "      <td>3.703091e-102</td>\n",
       "    </tr>\n",
       "    <tr>\n",
       "      <th>C(Period):C(settelment_type)</th>\n",
       "      <td>1.591769e+07</td>\n",
       "      <td>1.0</td>\n",
       "      <td>299.039816</td>\n",
       "      <td>2.571904e-50</td>\n",
       "    </tr>\n",
       "    <tr>\n",
       "      <th>Residual</th>\n",
       "      <td>2.107882e+07</td>\n",
       "      <td>396.0</td>\n",
       "      <td>NaN</td>\n",
       "      <td>NaN</td>\n",
       "    </tr>\n",
       "  </tbody>\n",
       "</table>\n",
       "</div>"
      ],
      "text/plain": [
       "                                    sum_sq     df            F         PR(>F)\n",
       "C(Period)                     1.405515e+08    1.0  2640.489967  2.931021e-177\n",
       "C(settelment_type)            4.644821e+07    1.0   872.605447  3.703091e-102\n",
       "C(Period):C(settelment_type)  1.591769e+07    1.0   299.039816   2.571904e-50\n",
       "Residual                      2.107882e+07  396.0          NaN            NaN"
      ]
     },
     "execution_count": 33,
     "metadata": {},
     "output_type": "execute_result"
    }
   ],
   "source": [
    "# turn results into DataFrame and compute 2-way ANOVA\n",
    "result = pd.DataFrame()\n",
    "result['Period'] = period\n",
    "result['settelment_type'] = settelment_type\n",
    "result['Distance'] =  DIS\n",
    "model = ols('Distance ~ C(Period) + C(settelment_type) + C(Period):C(settelment_type)', data=result).fit()\n",
    "sm.stats.anova_lm(model, typ=2)"
   ]
  }
 ],
 "metadata": {
  "colab": {
   "provenance": []
  },
  "kernelspec": {
   "display_name": "Python 3 (ipykernel)",
   "language": "python",
   "name": "python3"
  },
  "language_info": {
   "codemirror_mode": {
    "name": "ipython",
    "version": 3
   },
   "file_extension": ".py",
   "mimetype": "text/x-python",
   "name": "python",
   "nbconvert_exporter": "python",
   "pygments_lexer": "ipython3",
   "version": "3.12.7"
  }
 },
 "nbformat": 4,
 "nbformat_minor": 5
}
